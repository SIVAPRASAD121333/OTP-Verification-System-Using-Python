{
  "cells": [
    {
      "cell_type": "code",
      "execution_count": 42,
      "metadata": {
        "colab": {
          "base_uri": "https://localhost:8080/"
        },
        "id": "S7xkyL4KVjB9",
        "outputId": "d9bc2e3d-6c06-4b66-d930-af005f92c57c"
      },
      "outputs": [
        {
          "name": "stdout",
          "output_type": "stream",
          "text": [
            "Enter your Name:pr\n",
            "Enter your Email id:pandu121333@gmail.com\n",
            "enter OTP:640023\n"
          ]
        },
        {
          "data": {
            "text/plain": [
              "(221,\n",
              " b'2.0.0 closing connection 41be03b00d2f7-6bf54f99790sm1070344a12.72 - gsmtp')"
            ]
          },
          "execution_count": 42,
          "metadata": {},
          "output_type": "execute_result"
        }
      ],
      "source": [
        "import random\n",
        "import smtplib\n",
        "\n",
        "OTP = random.randint(100000,999999)      #generating a randomm 6-digit OTP\n",
        "\n",
        "#setting up server\n",
        "server = smtplib.SMTP('smtp.gmail.com',587)\n",
        "#server = smtplib.SMTP('64.233.184.108',587)           #IP address of smtp.gmail.com to bypass DNS resolution\n",
        "server.starttls()\n",
        "\n",
        "name = input(\"Enter your Name:\")\n",
        "global receiver_email\n",
        "receiver_email = input(\"Enter your Email id:\")\n",
        "\n",
        "def email_verification(receiver_email):\n",
        "    email_check1 = [\"gmail\",\"hotmail\",\"yahoo\",\"outlook\"]\n",
        "    email_check2 = [\".com\",\".in\",\".org\",\".edu\",\".co.in\"]\n",
        "    count = 0\n",
        "\n",
        "    for domain in email_check1:\n",
        "        if domain in receiver_email:\n",
        "            count+=1\n",
        "    for site in email_check2:\n",
        "        if site in receiver_email:\n",
        "            count+=1\n",
        "\n",
        "    if \"@\" not in receiver_email or count!=2:\n",
        "        print(\"Invalid email id\")\n",
        "        new_receiver_email = input(\"Enter Correct Email id:\")\n",
        "        email_verification(new_receiver_email)\n",
        "        return new_receiver_email\n",
        "    return receiver_email\n",
        "\n",
        "valid_receiver_email = email_verification(receiver_email)\n",
        "password = \"sxufjeorzxhtgozz\"\n",
        "server.login(\"sivaprasad121333@gmail.com\",password)\n",
        "\n",
        "body = \"Dear \"+name+\",\"+\"\\n\"+\"\\n\"+\" Welcome to Email Verification OTP \"+\"\\n\"+\"\\n\"+\"   Your Email OTP is \"+str(OTP)+\".\"\n",
        "subject = \"Email Verification OTP using Python\"\n",
        "message = f'subject:{subject}\\n\\n{body}'\n",
        "\n",
        "server.sendmail(\"sivaprasad121333@gmail.com\",valid_receiver_email,message)\n",
        "\n",
        "def sending_otp(receiver_email):\n",
        "    new_otp = random.randint(100000,999999)\n",
        "\n",
        "    body = \"Dear \"+name+\",\"+\"\\n\"+\"\\n\"+\" Welcome to Email Verification OTP \"+\"\\n\"+\"\\n\"+\"   Your Email OTP is \"+str(new_otp)+\".\"\n",
        "    subject = \"OTP verification using python\"\n",
        "    message = f'subject:{subject}\\n\\n{body}'\n",
        "    server.sendmail(\"sivaprasad121333@gmail.com\",receiver_email,message)\n",
        "    print(\"OTP has been sent to\"+receiver_email)\n",
        "    received_OTP = int(input(\"enter OTP:\"))\n",
        "\n",
        "    if received_OTP==new_otp:\n",
        "        print(\"OTP verified\")\n",
        "    else:\n",
        "        print(\"invalid OTP\")\n",
        "        print(\"resending OTP.....\")\n",
        "        sending_otp(receiver_email)\n",
        "\n",
        "print(\"OTP has been sent to \"+valid_receiver_email)\n",
        "received_OTP = int(input(\"Enter OTP:\"))\n",
        "\n",
        "if received_OTP==OTP:\n",
        "    print(\"OTP verified\")\n",
        "else:\n",
        "    print(\"invalid OTP\")\n",
        "    answer = input(\"Enter 'Yes' to resend OTP on Same Email Id and 'No' to Enter a New Email Id: \")\n",
        "    YES = ['YES','yes','Yes']\n",
        "    NO = ['NO','no','No']\n",
        "    if answer in YES:\n",
        "        sending_otp(valid_receiver_email)\n",
        "    elif answer in NO:\n",
        "        new_receiver_email = input(\"Enter New Email Id:\")\n",
        "        email_verification(new_receiver_email)\n",
        "        sending_otp(new_receiver_email)\n",
        "    else:\n",
        "        print(\"invalid input\")\n",
        "\n",
        "server.quit()"
      ]
    }
  ],
  "metadata": {
    "colab": {
      "name": "Welcome To Colab",
      "provenance": [],
      "toc_visible": true
    },
    "kernelspec": {
      "display_name": "Python 3",
      "name": "python3"
    }
  },
  "nbformat": 4,
  "nbformat_minor": 0
}
